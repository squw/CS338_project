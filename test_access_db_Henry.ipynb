{
 "cells": [
  {
   "cell_type": "code",
   "execution_count": 1,
   "metadata": {},
   "outputs": [],
   "source": [
    "import pandas as pd\n",
    "import os\n",
    "from dotenv import load_dotenv\n",
    "from sqlalchemy import create_engine\n",
    "from urllib.parse import quote\n",
    "from tabulate import tabulate"
   ]
  },
  {
   "cell_type": "code",
   "execution_count": 2,
   "metadata": {},
   "outputs": [],
   "source": [
    "# This line loads the env file created\n",
    "load_dotenv(r'./password.env')\n",
    "\n",
    "# MySQL Creds\n",
    "host = \"localhost\"\n",
    "username = \"root\"\n",
    "password = os.getenv('MY_PASSWORD')\n",
    "database_name = \"imdb_data\""
   ]
  },
  {
   "cell_type": "code",
   "execution_count": 3,
   "metadata": {},
   "outputs": [],
   "source": [
    "def print_table_10_rows(table):\n",
    "    engine = create_engine(f\"mysql+pymysql://{quote(username)}:{quote(password)}@{quote(host)}/{quote(database_name)}?charset=utf8mb4\")\n",
    "    query = f\"select * from {table} limit 10\"\n",
    "    \n",
    "    return pd.read_sql(query, engine)"
   ]
  },
  {
   "cell_type": "markdown",
   "metadata": {},
   "source": [
    "## name_basics"
   ]
  },
  {
   "cell_type": "code",
   "execution_count": 4,
   "metadata": {},
   "outputs": [
    {
     "name": "stdout",
     "output_type": "stream",
     "text": [
      "+---+-----------+-----------------+-----------+-----------+------------------------------------+-----------------------------------------+\n",
      "|   |  nconst   |   primaryName   | birthYear | deathYear |         primaryProfession          |             knownForTitles              |\n",
      "+---+-----------+-----------------+-----------+-----------+------------------------------------+-----------------------------------------+\n",
      "| 0 | nm0000001 |  Fred Astaire   |  1899.0   |  1987.0   |    actor,miscellaneous,producer    | tt0072308,tt0050419,tt0053137,tt0027125 |\n",
      "| 1 | nm0000002 |  Lauren Bacall  |  1924.0   |  2014.0   | actress,soundtrack,archive_footage | tt0037382,tt0075213,tt0117057,tt0038355 |\n",
      "| 2 | nm0000003 | Brigitte Bardot |  1934.0   |    nan    | actress,music_department,producer  | tt0057345,tt0049189,tt0056404,tt0054452 |\n",
      "| 3 | nm0000004 |  John Belushi   |  1949.0   |  1982.0   |   actor,writer,music_department    | tt0072562,tt0077975,tt0080455,tt0078723 |\n",
      "| 4 | nm0000005 | Ingmar Bergman  |  1918.0   |  2007.0   |       writer,director,actor        | tt0050986,tt0083922,tt0050976,tt0069467 |\n",
      "| 5 | nm0000006 | Ingrid Bergman  |  1915.0   |  1982.0   |    actress,producer,soundtrack     | tt0034583,tt0036855,tt0038109,tt0038787 |\n",
      "| 6 | nm0000007 | Humphrey Bogart |  1899.0   |  1957.0   |    actor,producer,miscellaneous    | tt0034583,tt0042593,tt0043265,tt0037382 |\n",
      "| 7 | nm0000008 |  Marlon Brando  |  1924.0   |  2004.0   |       actor,director,writer        | tt0078788,tt0068646,tt0047296,tt0070849 |\n",
      "| 8 | nm0000009 | Richard Burton  |  1925.0   |  1984.0   |      actor,producer,director       | tt0061184,tt0087803,tt0059749,tt0057877 |\n",
      "| 9 | nm0000010 |  James Cagney   |  1899.0   |  1986.0   |      actor,director,producer       | tt0029870,tt0031867,tt0042041,tt0035575 |\n",
      "+---+-----------+-----------------+-----------+-----------+------------------------------------+-----------------------------------------+\n"
     ]
    }
   ],
   "source": [
    "df_name_basics = print_table_10_rows(\"name_basics\")\n",
    "print(tabulate(df_name_basics, headers='keys', tablefmt='pretty'))"
   ]
  },
  {
   "cell_type": "markdown",
   "metadata": {},
   "source": [
    "## title_akas"
   ]
  },
  {
   "cell_type": "code",
   "execution_count": 5,
   "metadata": {},
   "outputs": [
    {
     "name": "stdout",
     "output_type": "stream",
     "text": [
      "+---+-----------+----------+---------------------------+--------+----------+-------------+---------------+-----------------+\n",
      "|   |  titleId  | ordering |           title           | region | language |    types    |  attributes   | isOriginalTitle |\n",
      "+---+-----------+----------+---------------------------+--------+----------+-------------+---------------+-----------------+\n",
      "| 0 | tt0000001 |    1     |        Carmencita         |        |          |  original   |               |        1        |\n",
      "| 1 | tt0000001 |    2     |        Carmencita         |   DE   |          |             | literal title |        0        |\n",
      "| 2 | tt0000001 |    3     |        Carmencita         |   US   |          | imdbDisplay |               |        0        |\n",
      "| 3 | tt0000001 |    4     | Carmencita - spanyol tánc |   HU   |          | imdbDisplay |               |        0        |\n",
      "| 4 | tt0000001 |    5     |        Καρμενσίτα         |   GR   |          | imdbDisplay |               |        0        |\n",
      "| 5 | tt0000001 |    6     |        Карменсита         |   RU   |          | imdbDisplay |               |        0        |\n",
      "| 6 | tt0000001 |    7     |        Карменсіта         |   UA   |          | imdbDisplay |               |        0        |\n",
      "| 7 | tt0000001 |    8     |      カルメンチータ       |   JP   |    ja    | imdbDisplay |               |        0        |\n",
      "| 8 | tt0000002 |    1     |  Le clown et ses chiens   |        |          |  original   |               |        1        |\n",
      "| 9 | tt0000002 |    2     |     A bohóc és kutyái     |   HU   |          | imdbDisplay |               |        0        |\n",
      "+---+-----------+----------+---------------------------+--------+----------+-------------+---------------+-----------------+\n"
     ]
    }
   ],
   "source": [
    "df_title_akas = print_table_10_rows(\"title_akas\")\n",
    "print(tabulate(df_title_akas, headers='keys', tablefmt='pretty'))"
   ]
  },
  {
   "cell_type": "markdown",
   "metadata": {},
   "source": [
    "## title_basics"
   ]
  },
  {
   "cell_type": "code",
   "execution_count": 6,
   "metadata": {},
   "outputs": [
    {
     "name": "stdout",
     "output_type": "stream",
     "text": [
      "+---+-----------+-----------+---------------------------------------------+---------------------------------------------+---------+-----------+---------+----------------+--------------------------+\n",
      "|   |  tconst   | titleType |                primaryTitle                 |                originalTitle                | isAdult | startYear | endYear | runtimeMinutes |          genres          |\n",
      "+---+-----------+-----------+---------------------------------------------+---------------------------------------------+---------+-----------+---------+----------------+--------------------------+\n",
      "| 0 | tt0000001 |   short   |                 Carmencita                  |                 Carmencita                  |    0    |   1894    |         |      1.0       |    Documentary,Short     |\n",
      "| 1 | tt0000002 |   short   |           Le clown et ses chiens            |           Le clown et ses chiens            |    0    |   1892    |         |      5.0       |     Animation,Short      |\n",
      "| 2 | tt0000003 |   short   |               Pauvre Pierrot                |               Pauvre Pierrot                |    0    |   1892    |         |      5.0       | Animation,Comedy,Romance |\n",
      "| 3 | tt0000004 |   short   |                 Un bon bock                 |                 Un bon bock                 |    0    |   1892    |         |      12.0      |     Animation,Short      |\n",
      "| 4 | tt0000005 |   short   |              Blacksmith Scene               |              Blacksmith Scene               |    0    |   1893    |         |      1.0       |       Comedy,Short       |\n",
      "| 5 | tt0000006 |   short   |              Chinese Opium Den              |              Chinese Opium Den              |    0    |   1894    |         |      1.0       |          Short           |\n",
      "| 6 | tt0000007 |   short   | Corbett and Courtney Before the Kinetograph | Corbett and Courtney Before the Kinetograph |    0    |   1894    |         |      1.0       |       Short,Sport        |\n",
      "| 7 | tt0000008 |   short   |   Edison Kinetoscopic Record of a Sneeze    |   Edison Kinetoscopic Record of a Sneeze    |    0    |   1894    |         |      1.0       |    Documentary,Short     |\n",
      "| 8 | tt0000009 |   movie   |                 Miss Jerry                  |                 Miss Jerry                  |    0    |   1894    |         |      45.0      |         Romance          |\n",
      "| 9 | tt0000010 |   short   |             Leaving the Factory             |     La sortie de l'usine Lumière à Lyon     |    0    |   1895    |         |      1.0       |    Documentary,Short     |\n",
      "+---+-----------+-----------+---------------------------------------------+---------------------------------------------+---------+-----------+---------+----------------+--------------------------+\n"
     ]
    }
   ],
   "source": [
    "df_title_basics = print_table_10_rows(\"title_basics\")\n",
    "print(tabulate(df_title_basics, headers='keys', tablefmt='pretty'))"
   ]
  },
  {
   "cell_type": "markdown",
   "metadata": {},
   "source": [
    "## title_crew"
   ]
  },
  {
   "cell_type": "code",
   "execution_count": 7,
   "metadata": {},
   "outputs": [
    {
     "name": "stdout",
     "output_type": "stream",
     "text": [
      "+---+-----------+---------------------+-----------+\n",
      "|   |  tconst   |      directors      |  writers  |\n",
      "+---+-----------+---------------------+-----------+\n",
      "| 0 | tt0000001 |      nm0005690      |           |\n",
      "| 1 | tt0000002 |      nm0721526      |           |\n",
      "| 2 | tt0000003 |      nm0721526      |           |\n",
      "| 3 | tt0000004 |      nm0721526      |           |\n",
      "| 4 | tt0000005 |      nm0005690      |           |\n",
      "| 5 | tt0000006 |      nm0005690      |           |\n",
      "| 6 | tt0000007 | nm0005690,nm0374658 |           |\n",
      "| 7 | tt0000008 |      nm0005690      |           |\n",
      "| 8 | tt0000009 |      nm0085156      | nm0085156 |\n",
      "| 9 | tt0000010 |      nm0525910      |           |\n",
      "+---+-----------+---------------------+-----------+\n"
     ]
    }
   ],
   "source": [
    "df_title_crew = print_table_10_rows(\"title_crew\")\n",
    "print(tabulate(df_title_crew, headers='keys', tablefmt='pretty'))"
   ]
  },
  {
   "cell_type": "markdown",
   "metadata": {},
   "source": [
    "## title_episode"
   ]
  },
  {
   "cell_type": "code",
   "execution_count": 8,
   "metadata": {},
   "outputs": [
    {
     "name": "stdout",
     "output_type": "stream",
     "text": [
      "+---+-----------+--------------+--------------+---------------+\n",
      "|   |  tconst   | parentTconst | seasonNumber | episodeNumber |\n",
      "+---+-----------+--------------+--------------+---------------+\n",
      "| 0 | tt0041951 |  tt0041038   |     1.0      |      9.0      |\n",
      "| 1 | tt0042816 |  tt0989125   |     1.0      |     17.0      |\n",
      "| 2 | tt0042889 |  tt0989125   |     nan      |      nan      |\n",
      "| 3 | tt0043426 |  tt0040051   |     3.0      |     42.0      |\n",
      "| 4 | tt0043631 |  tt0989125   |     2.0      |     16.0      |\n",
      "| 5 | tt0043693 |  tt0989125   |     2.0      |      8.0      |\n",
      "| 6 | tt0043710 |  tt0989125   |     3.0      |      3.0      |\n",
      "| 7 | tt0044093 |  tt0959862   |     1.0      |      6.0      |\n",
      "| 8 | tt0044668 |  tt0044243   |     2.0      |     16.0      |\n",
      "| 9 | tt0044901 |  tt0989125   |     3.0      |     46.0      |\n",
      "+---+-----------+--------------+--------------+---------------+\n"
     ]
    }
   ],
   "source": [
    "df_title_episode = print_table_10_rows(\"title_episode\")\n",
    "print(tabulate(df_title_episode, headers='keys', tablefmt='pretty'))"
   ]
  },
  {
   "cell_type": "markdown",
   "metadata": {},
   "source": [
    "## title_pricipals"
   ]
  },
  {
   "cell_type": "code",
   "execution_count": 9,
   "metadata": {},
   "outputs": [
    {
     "name": "stdout",
     "output_type": "stream",
     "text": [
      "+---+-----------+----------+-----------+-----------------+-------------------------+------------+\n",
      "|   |  tconst   | ordering |  nconst   |    category     |           job           | characters |\n",
      "+---+-----------+----------+-----------+-----------------+-------------------------+------------+\n",
      "| 0 | tt0000001 |    1     | nm1588970 |      self       |                         |  [\"Self\"]  |\n",
      "| 1 | tt0000001 |    2     | nm0005690 |    director     |                         |            |\n",
      "| 2 | tt0000001 |    3     | nm0005690 |    producer     |        producer         |            |\n",
      "| 3 | tt0000001 |    4     | nm0374658 | cinematographer | director of photography |            |\n",
      "| 4 | tt0000002 |    1     | nm0721526 |    director     |                         |            |\n",
      "| 5 | tt0000002 |    2     | nm1335271 |    composer     |                         |            |\n",
      "| 6 | tt0000003 |    1     | nm0721526 |    director     |                         |            |\n",
      "| 7 | tt0000003 |    2     | nm1770680 |    producer     |        producer         |            |\n",
      "| 8 | tt0000003 |    3     | nm0721526 |    producer     |        producer         |            |\n",
      "| 9 | tt0000003 |    4     | nm1335271 |    composer     |                         |            |\n",
      "+---+-----------+----------+-----------+-----------------+-------------------------+------------+\n"
     ]
    }
   ],
   "source": [
    "df_title_pricipals = print_table_10_rows(\"title_principals\")\n",
    "print(tabulate(df_title_pricipals, headers='keys', tablefmt='pretty'))"
   ]
  },
  {
   "cell_type": "markdown",
   "metadata": {},
   "source": [
    "## title_ratings"
   ]
  },
  {
   "cell_type": "code",
   "execution_count": 10,
   "metadata": {},
   "outputs": [
    {
     "name": "stdout",
     "output_type": "stream",
     "text": [
      "+---+-----------+---------------+----------+\n",
      "|   |  tconst   | averageRating | numVotes |\n",
      "+---+-----------+---------------+----------+\n",
      "| 0 | tt0000001 |      5.7      |   2058   |\n",
      "| 1 | tt0000002 |      5.6      |   277    |\n",
      "| 2 | tt0000003 |      6.5      |   2017   |\n",
      "| 3 | tt0000004 |      5.4      |   180    |\n",
      "| 4 | tt0000005 |      6.2      |   2785   |\n",
      "| 5 | tt0000006 |      5.1      |   187    |\n",
      "| 6 | tt0000007 |      5.4      |   863    |\n",
      "| 7 | tt0000008 |      5.4      |   2201   |\n",
      "| 8 | tt0000009 |      5.4      |   212    |\n",
      "| 9 | tt0000010 |      6.8      |   7581   |\n",
      "+---+-----------+---------------+----------+\n"
     ]
    }
   ],
   "source": [
    "df_title_ratings = print_table_10_rows(\"title_ratings\")\n",
    "print(tabulate(df_title_ratings, headers='keys', tablefmt='pretty'))"
   ]
  }
 ],
 "metadata": {
  "kernelspec": {
   "display_name": "base",
   "language": "python",
   "name": "python3"
  },
  "language_info": {
   "codemirror_mode": {
    "name": "ipython",
    "version": 3
   },
   "file_extension": ".py",
   "mimetype": "text/x-python",
   "name": "python",
   "nbconvert_exporter": "python",
   "pygments_lexer": "ipython3",
   "version": "3.11.7"
  }
 },
 "nbformat": 4,
 "nbformat_minor": 2
}
